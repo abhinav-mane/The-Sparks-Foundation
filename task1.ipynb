{
 "cells": [
  {
   "cell_type": "code",
   "execution_count": 3,
   "id": "arranged-roller",
   "metadata": {},
   "outputs": [],
   "source": [
    "import numpy as np\n",
    "import pandas as pd\n",
    "import matplotlib.pyplot as plt\n",
    "%matplotlib inline"
   ]
  },
  {
   "cell_type": "markdown",
   "id": "completed-coordination",
   "metadata": {},
   "source": [
    "### Reading the dataset directly from the url"
   ]
  },
  {
   "cell_type": "code",
   "execution_count": 50,
   "id": "nuclear-advance",
   "metadata": {},
   "outputs": [],
   "source": [
    "url = r\"https://raw.githubusercontent.com/AdiPersonalWorks/Random/master/student_scores%20-%20student_scores.csv\"\n",
    "dataset = pd.read_csv(url)"
   ]
  },
  {
   "cell_type": "markdown",
   "id": "mexican-pursuit",
   "metadata": {},
   "source": [
    "### Always check the head of data to just get an idea of dataset"
   ]
  },
  {
   "cell_type": "code",
   "execution_count": 52,
   "id": "official-demand",
   "metadata": {},
   "outputs": [
    {
     "data": {
      "text/html": [
       "<div>\n",
       "<style scoped>\n",
       "    .dataframe tbody tr th:only-of-type {\n",
       "        vertical-align: middle;\n",
       "    }\n",
       "\n",
       "    .dataframe tbody tr th {\n",
       "        vertical-align: top;\n",
       "    }\n",
       "\n",
       "    .dataframe thead th {\n",
       "        text-align: right;\n",
       "    }\n",
       "</style>\n",
       "<table border=\"1\" class=\"dataframe\">\n",
       "  <thead>\n",
       "    <tr style=\"text-align: right;\">\n",
       "      <th></th>\n",
       "      <th>Hours</th>\n",
       "      <th>Scores</th>\n",
       "    </tr>\n",
       "  </thead>\n",
       "  <tbody>\n",
       "    <tr>\n",
       "      <th>0</th>\n",
       "      <td>2.5</td>\n",
       "      <td>21</td>\n",
       "    </tr>\n",
       "    <tr>\n",
       "      <th>1</th>\n",
       "      <td>5.1</td>\n",
       "      <td>47</td>\n",
       "    </tr>\n",
       "    <tr>\n",
       "      <th>2</th>\n",
       "      <td>3.2</td>\n",
       "      <td>27</td>\n",
       "    </tr>\n",
       "    <tr>\n",
       "      <th>3</th>\n",
       "      <td>8.5</td>\n",
       "      <td>75</td>\n",
       "    </tr>\n",
       "    <tr>\n",
       "      <th>4</th>\n",
       "      <td>3.5</td>\n",
       "      <td>30</td>\n",
       "    </tr>\n",
       "  </tbody>\n",
       "</table>\n",
       "</div>"
      ],
      "text/plain": [
       "   Hours  Scores\n",
       "0    2.5      21\n",
       "1    5.1      47\n",
       "2    3.2      27\n",
       "3    8.5      75\n",
       "4    3.5      30"
      ]
     },
     "execution_count": 52,
     "metadata": {},
     "output_type": "execute_result"
    }
   ],
   "source": [
    "dataset.head()"
   ]
  },
  {
   "cell_type": "markdown",
   "id": "automated-theta",
   "metadata": {},
   "source": [
    "### Plotting the dataset of hours of study against the marks obtained"
   ]
  },
  {
   "cell_type": "code",
   "execution_count": 55,
   "id": "decent-locator",
   "metadata": {},
   "outputs": [
    {
     "data": {
      "image/png": "[encoded data removed]",
      "text/plain": [
       "<Figure size 432x288 with 1 Axes>"
      ]
     },
     "metadata": {
      "needs_background": "light"
     },
     "output_type": "display_data"
    }
   ],
   "source": [
    "plt.scatter(dataset['Hours'],dataset['Scores'])\n",
    "plt.title('Hours of Study Vs Marks')\n",
    "plt.xlabel('Hours of study')\n",
    "plt.ylabel('Marks')\n",
    "plt.show()"
   ]
  },
  {
   "cell_type": "markdown",
   "id": "bigger-charter",
   "metadata": {},
   "source": [
    "### Splitting the dataset "
   ]
  },
  {
   "cell_type": "code",
   "execution_count": 29,
   "id": "minute-right",
   "metadata": {},
   "outputs": [],
   "source": [
    "X = dataset.drop(['Score'],axis=1)\n",
    "y = dataset['Score']"
   ]
  },
  {
   "cell_type": "code",
   "execution_count": 56,
   "id": "oriented-nowhere",
   "metadata": {},
   "outputs": [],
   "source": [
    "from sklearn.model_selection import train_test_split\n",
    "X_train, X_test, y_train, y_test = train_test_split(X,y,test_size=0.15,random_state=3)"
   ]
  },
  {
   "cell_type": "code",
   "execution_count": 57,
   "id": "stylish-thomas",
   "metadata": {},
   "outputs": [],
   "source": [
    "from sklearn.linear_model import LinearRegression\n",
    "lr = LinearRegression()"
   ]
  },
  {
   "cell_type": "markdown",
   "id": "attempted-mount",
   "metadata": {},
   "source": [
    "### Fitting our data to the model"
   ]
  },
  {
   "cell_type": "code",
   "execution_count": 58,
   "id": "authorized-local",
   "metadata": {},
   "outputs": [
    {
     "data": {
      "text/plain": [
       "LinearRegression()"
      ]
     },
     "execution_count": 58,
     "metadata": {},
     "output_type": "execute_result"
    }
   ],
   "source": [
    "lr.fit(X_train,y_train)"
   ]
  },
  {
   "cell_type": "markdown",
   "id": "second-passage",
   "metadata": {},
   "source": [
    "### Plotting the line of best fit"
   ]
  },
  {
   "cell_type": "code",
   "execution_count": 64,
   "id": "disciplinary-raise",
   "metadata": {},
   "outputs": [
    {
     "data": {
      "image/png": "[encoded data removed]",
      "text/plain": [
       "<Figure size 432x288 with 1 Axes>"
      ]
     },
     "metadata": {
      "needs_background": "light"
     },
     "output_type": "display_data"
    }
   ],
   "source": [
    "# Plotting the line of regression\n",
    "line = lr.coef_*X+lr.intercept_\n",
    "\n",
    "plt.scatter(X, y)\n",
    "plt.plot(X, line,color='green');\n",
    "plt.show()"
   ]
  },
  {
   "cell_type": "markdown",
   "id": "eastern-kruger",
   "metadata": {},
   "source": [
    "### Prediction on testing dataset"
   ]
  },
  {
   "cell_type": "code",
   "execution_count": 59,
   "id": "nutritional-mexican",
   "metadata": {},
   "outputs": [],
   "source": [
    "prediction = lr.predict(X_test)"
   ]
  },
  {
   "cell_type": "code",
   "execution_count": 65,
   "id": "color-airplane",
   "metadata": {},
   "outputs": [
    {
     "name": "stdout",
     "output_type": "stream",
     "text": [
      "Train Score:  0.9546368893376365\n",
      "Testing Score:  0.9366028330496071\n"
     ]
    }
   ],
   "source": [
    "print(\"Train Score: \",lr.score(X_train,y_train))\n",
    "print(\"Testing Score: \",lr.score(X_test,y_test))"
   ]
  },
  {
   "cell_type": "markdown",
   "id": "theoretical-poetry",
   "metadata": {},
   "source": [
    "### Predicting on the actual test data we need"
   ]
  },
  {
   "cell_type": "code",
   "execution_count": 67,
   "id": "dirty-combine",
   "metadata": {},
   "outputs": [
    {
     "name": "stdout",
     "output_type": "stream",
     "text": [
      "No of Hours = 9.25\n",
      "Predicted Score = 92.20046719962541\n"
     ]
    }
   ],
   "source": [
    "hours = 9.25\n",
    "test = np.array([hours])\n",
    "test = test.reshape(-1, 1)\n",
    "own_pred = lr.predict(test)\n",
    "print(\"No of Hours = {}\".format(hours))\n",
    "print(\"Predicted Score = {}\".format(own_pred[0]))"
   ]
  },
  {
   "cell_type": "markdown",
   "id": "middle-british",
   "metadata": {},
   "source": [
    "### All the metrics to evaluate our model "
   ]
  },
  {
   "cell_type": "code",
   "execution_count": 68,
   "id": "dramatic-conducting",
   "metadata": {},
   "outputs": [
    {
     "name": "stdout",
     "output_type": "stream",
     "text": [
      "Mean Absolute Error: 5.047189916475587\n",
      "Mean Squared Error: 27.03889170434258\n",
      "Root Mean Squared Error: 5.19989343201787\n",
      "R-2: 0.9366028330496071\n"
     ]
    }
   ],
   "source": [
    "from sklearn import metrics  \n",
    "print('Mean Absolute Error:',metrics.mean_absolute_error(y_test, prediction)) \n",
    "print('Mean Squared Error:', metrics.mean_squared_error(y_test, prediction))\n",
    "print('Root Mean Squared Error:', np.sqrt(metrics.mean_squared_error(y_test, prediction)))\n",
    "print('R-2:', metrics.r2_score(y_test, prediction))"
   ]
  },
  {
   "cell_type": "code",
   "execution_count": null,
   "id": "alike-dominican",
   "metadata": {},
   "outputs": [],
   "source": []
  }
 ],
 "metadata": {
  "kernelspec": {
   "display_name": "Python 3",
   "language": "python",
   "name": "python3"
  },
  "language_info": {
   "codemirror_mode": {
    "name": "ipython",
    "version": 3
   },
   "file_extension": ".py",
   "mimetype": "text/x-python",
   "name": "python",
   "nbconvert_exporter": "python",
   "pygments_lexer": "ipython3",
   "version": "3.7.6"
  }
 },
 "nbformat": 4,
 "nbformat_minor": 5
}
